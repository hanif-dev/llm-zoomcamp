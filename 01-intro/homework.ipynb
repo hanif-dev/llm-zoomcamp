{
 "cells": [
  {
   "cell_type": "code",
   "execution_count": 1,
   "id": "05182134-db5b-4eb1-a714-11d83ccbf750",
   "metadata": {},
   "outputs": [],
   "source": [
    "from groq import Groq\n",
    "\n",
    "\n",
    "#import openai\n",
    "#from openai import OpenAI\n",
    "import os"
   ]
  },
  {
   "cell_type": "code",
   "execution_count": 2,
   "id": "f05c4c72-687a-4411-85c5-d8a66803b41b",
   "metadata": {},
   "outputs": [],
   "source": [
    "#os.environ"
   ]
  },
  {
   "cell_type": "code",
   "execution_count": null,
   "id": "7e470214-38a5-4d54-ad3e-e04539e0159c",
   "metadata": {},
   "outputs": [],
   "source": []
  },
  {
   "cell_type": "code",
   "execution_count": 3,
   "id": "68035db5-06ea-4c6c-9460-acd6b3d09b9b",
   "metadata": {},
   "outputs": [
    {
     "data": {
      "text/plain": [
       "'client = OpenAI()\\nclient.chat.completions.create(\\n    model=\\'GPT-4o\\',\\n    messages=[{\"role\": \"user\", \"content\": \"is it too late to join the course?\"}]\\n)'"
      ]
     },
     "execution_count": 3,
     "metadata": {},
     "output_type": "execute_result"
    }
   ],
   "source": [
    "\"\"\"client = OpenAI()\n",
    "client.chat.completions.create(\n",
    "    model='GPT-4o',\n",
    "    messages=[{\"role\": \"user\", \"content\": \"is it too late to join the course?\"}]\n",
    ")\"\"\""
   ]
  },
  {
   "cell_type": "code",
   "execution_count": 4,
   "id": "a6749dc4-733c-4999-b315-99d6a23b8d7b",
   "metadata": {},
   "outputs": [
    {
     "name": "stdout",
     "output_type": "stream",
     "text": [
      "Welcome to our conversation!\n",
      "\n",
      "Regarding your question, it's generally possible to join a course even if it has already started, but the likelihood of being accepted depends on several factors. Here are some things to consider:\n",
      "\n",
      "1. **The course's policy**: Check the course description, website, or contact the instructor/organizer to see if they have a specific policy regarding late joiners. Some courses may have a strict deadline, while others might be more flexible.\n",
      "2. **The course's format**: If the course is online, it might be easier to join late, as you can access the materials and participate remotely. For in-person courses or those with in-person components, it might be more challenging to join late, as you would need to catch up on material you've missed.\n",
      "3. **The instructor's discretion**: The instructor may have some flexibility to allow you to join, especially if there's still room available. It's always worth contacting them to ask if they're willing to make an exception.\n",
      "4. **Your motivation and commitment**: If you're genuinely interested in the course and willing to put in extra effort to catch up, the instructor might be more willing to accommodate you.\n",
      "\n",
      "Before joining, consider the following:\n",
      "\n",
      "* Be prepared to complete any missed materials or assignments quickly and efficiently.\n",
      "* Be flexible with your schedule to accommodate any adjustments needed to catch up.\n",
      "* Be respectful of your fellow students, who may have already established a connection with the instructor and each other.\n",
      "\n",
      "If you're still interested in joining the course, I recommend reaching out to the instructor or course organizer as soon as possible to discuss your options. Good luck!\n"
     ]
    }
   ],
   "source": [
    "client = Groq()\n",
    "\n",
    "response = client.chat.completions.create(\n",
    "    model=\"llama3-8b-8192\",\n",
    "    messages=[{\"role\": \"user\", \"content\": \"The course already started. Can I still join?\"}]\n",
    ")\n",
    "print(response.choices[0].message.content)"
   ]
  },
  {
   "cell_type": "code",
   "execution_count": null,
   "id": "fad62390-f93f-4fe0-b8d2-5cd5cf46f03d",
   "metadata": {},
   "outputs": [],
   "source": []
  },
  {
   "cell_type": "code",
   "execution_count": null,
   "id": "a0d03436-cb1b-4f39-8f90-7a460e5e181c",
   "metadata": {},
   "outputs": [],
   "source": []
  }
 ],
 "metadata": {
  "kernelspec": {
   "display_name": "Python 3 (ipykernel)",
   "language": "python",
   "name": "python3"
  },
  "language_info": {
   "codemirror_mode": {
    "name": "ipython",
    "version": 3
   },
   "file_extension": ".py",
   "mimetype": "text/x-python",
   "name": "python",
   "nbconvert_exporter": "python",
   "pygments_lexer": "ipython3",
   "version": "3.10.14"
  }
 },
 "nbformat": 4,
 "nbformat_minor": 5
}
