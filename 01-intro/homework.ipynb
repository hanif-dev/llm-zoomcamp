{
 "cells": [
  {
   "cell_type": "code",
   "execution_count": 1,
   "id": "05182134-db5b-4eb1-a714-11d83ccbf750",
   "metadata": {},
   "outputs": [],
   "source": [
    "from groq import Groq\n",
    "\n",
    "\n",
    "#import openai\n",
    "#from openai import OpenAI\n",
    "import os"
   ]
  },
  {
   "cell_type": "code",
   "execution_count": 2,
   "id": "f05c4c72-687a-4411-85c5-d8a66803b41b",
   "metadata": {},
   "outputs": [],
   "source": [
    "#os.environ"
   ]
  },
  {
   "cell_type": "code",
   "execution_count": null,
   "id": "7e470214-38a5-4d54-ad3e-e04539e0159c",
   "metadata": {},
   "outputs": [],
   "source": []
  },
  {
   "cell_type": "code",
   "execution_count": 3,
   "id": "68035db5-06ea-4c6c-9460-acd6b3d09b9b",
   "metadata": {},
   "outputs": [
    {
     "data": {
      "text/plain": [
       "'client = OpenAI()\\nclient.chat.completions.create(\\n    model=\\'GPT-4o\\',\\n    messages=[{\"role\": \"user\", \"content\": \"is it too late to join the course?\"}]\\n)'"
      ]
     },
     "execution_count": 3,
     "metadata": {},
     "output_type": "execute_result"
    }
   ],
   "source": [
    "\"\"\"client = OpenAI()\n",
    "client.chat.completions.create(\n",
    "    model='GPT-4o',\n",
    "    messages=[{\"role\": \"user\", \"content\": \"is it too late to join the course?\"}]\n",
    ")\"\"\""
   ]
  },
  {
   "cell_type": "code",
   "execution_count": 4,
   "id": "a6749dc4-733c-4999-b315-99d6a23b8d7b",
   "metadata": {},
   "outputs": [
    {
     "name": "stdout",
     "output_type": "stream",
     "text": [
      "That's a great attitude to have! While it's always ideal to start a course from the beginning, it's not uncommon for people to join mid-stream. Whether you can still join depends on the course and its organizers. Here are a few possibilities:\n",
      "\n",
      "1. **Contact the course organizer**: Reach out to the person or organization offering the course and ask if they're still accepting new students. They might be willing to make an exception, especially if there are still spots available.\n",
      "2. **Check the course's website or platform**: Look for information on the course's website or platform (e.g., online learning platform, course description, FAQs) to see if they have a policy on joining mid-course.\n",
      "3. **Assess the situation**: Consider the course's structure and content. If it's a self-paced online course, you might be able to catch up with the material. If it's a live online or in-person course, you might miss some important discussions or activities. Weigh the pros and cons before deciding.\n",
      "4. **Start with the current topic**: If you do decide to join, start with the current topic or session and then work your way back to catch up on any material you've missed. This will help you get up to speed quickly.\n",
      "5. **Be honest and communicate**: If you do decide to join, be sure to communicate with the course organizers or instructors about your decision to join mid-course. They may appreciate your honesty and be willing to work with you to get you up to speed.\n",
      "\n",
      "Remember, it's always better to ask and communicate openly with the course organizers. They might be able to accommodate you and help you get started, even if you're joining mid-stream.\n"
     ]
    }
   ],
   "source": [
    "client = Groq()\n",
    "\n",
    "response = client.chat.completions.create(\n",
    "    model=\"llama3-8b-8192\",\n",
    "    messages=[{\"role\": \"user\", \"content\": \"The course already started. Can I still join?\"}]\n",
    ")\n",
    "print(response.choices[0].message.content)"
   ]
  },
  {
   "cell_type": "code",
   "execution_count": null,
   "id": "fad62390-f93f-4fe0-b8d2-5cd5cf46f03d",
   "metadata": {},
   "outputs": [],
   "source": []
  }
 ],
 "metadata": {
  "kernelspec": {
   "display_name": "Python 3 (ipykernel)",
   "language": "python",
   "name": "python3"
  },
  "language_info": {
   "codemirror_mode": {
    "name": "ipython",
    "version": 3
   },
   "file_extension": ".py",
   "mimetype": "text/x-python",
   "name": "python",
   "nbconvert_exporter": "python",
   "pygments_lexer": "ipython3",
   "version": "3.10.14"
  }
 },
 "nbformat": 4,
 "nbformat_minor": 5
}
